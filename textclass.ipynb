{
  "cells": [
    {
      "cell_type": "code",
      "execution_count": 2,
      "metadata": {
        "id": "-BQCpf6AdcNl"
      },
      "outputs": [],
      "source": [
        "import pandas as pd\n",
        "import numpy as np\n",
        "import tensorflow as tf\n",
        "import matplotlib.pyplot as plt\n",
        "import sklearn"
      ]
    },
    {
      "cell_type": "code",
      "execution_count": 3,
      "metadata": {
        "id": "aG8HaNeLd6R2"
      },
      "outputs": [],
      "source": [
        "dataset = pd.read_csv('Restaurant_Reviews.tsv',delimiter = '\\t',quoting =3)"
      ]
    },
    {
      "cell_type": "code",
      "execution_count": 4,
      "metadata": {
        "colab": {
          "base_uri": "https://localhost:8080/",
          "height": 206
        },
        "id": "YRD3QrzHeezC",
        "outputId": "d34842ef-3004-4b8e-d0b0-d5acb58717f6"
      },
      "outputs": [
        {
          "data": {
            "text/html": [
              "<div>\n",
              "<style scoped>\n",
              "    .dataframe tbody tr th:only-of-type {\n",
              "        vertical-align: middle;\n",
              "    }\n",
              "\n",
              "    .dataframe tbody tr th {\n",
              "        vertical-align: top;\n",
              "    }\n",
              "\n",
              "    .dataframe thead th {\n",
              "        text-align: right;\n",
              "    }\n",
              "</style>\n",
              "<table border=\"1\" class=\"dataframe\">\n",
              "  <thead>\n",
              "    <tr style=\"text-align: right;\">\n",
              "      <th></th>\n",
              "      <th>Review</th>\n",
              "      <th>Liked</th>\n",
              "    </tr>\n",
              "  </thead>\n",
              "  <tbody>\n",
              "    <tr>\n",
              "      <th>0</th>\n",
              "      <td>Wow... Loved this place.</td>\n",
              "      <td>1</td>\n",
              "    </tr>\n",
              "    <tr>\n",
              "      <th>1</th>\n",
              "      <td>Crust is not good.</td>\n",
              "      <td>0</td>\n",
              "    </tr>\n",
              "    <tr>\n",
              "      <th>2</th>\n",
              "      <td>Not tasty and the texture was just nasty.</td>\n",
              "      <td>0</td>\n",
              "    </tr>\n",
              "    <tr>\n",
              "      <th>3</th>\n",
              "      <td>Stopped by during the late May bank holiday of...</td>\n",
              "      <td>1</td>\n",
              "    </tr>\n",
              "    <tr>\n",
              "      <th>4</th>\n",
              "      <td>The selection on the menu was great and so wer...</td>\n",
              "      <td>1</td>\n",
              "    </tr>\n",
              "  </tbody>\n",
              "</table>\n",
              "</div>"
            ],
            "text/plain": [
              "                                              Review  Liked\n",
              "0                           Wow... Loved this place.      1\n",
              "1                                 Crust is not good.      0\n",
              "2          Not tasty and the texture was just nasty.      0\n",
              "3  Stopped by during the late May bank holiday of...      1\n",
              "4  The selection on the menu was great and so wer...      1"
            ]
          },
          "execution_count": 4,
          "metadata": {},
          "output_type": "execute_result"
        }
      ],
      "source": [
        "dataset.head(5)"
      ]
    },
    {
      "cell_type": "code",
      "execution_count": 5,
      "metadata": {
        "colab": {
          "base_uri": "https://localhost:8080/"
        },
        "id": "HItvqJTx_U6V",
        "outputId": "46af342a-b8ac-4b3f-d0fe-9bf1d46fa69b"
      },
      "outputs": [
        {
          "name": "stderr",
          "output_type": "stream",
          "text": [
            "[nltk_data] Downloading package stopwords to\n",
            "[nltk_data]     C:\\Users\\spars\\AppData\\Roaming\\nltk_data...\n",
            "[nltk_data]   Package stopwords is already up-to-date!\n"
          ]
        }
      ],
      "source": [
        "import re\n",
        "import nltk\n",
        "from nltk.corpus import stopwords\n",
        "from nltk.stem.porter import PorterStemmer\n",
        "\n",
        "nltk.download('stopwords')\n",
        "ps = PorterStemmer()"
      ]
    },
    {
      "cell_type": "code",
      "execution_count": 6,
      "metadata": {
        "id": "4ZGFAfYGeiYu"
      },
      "outputs": [],
      "source": [
        "cleaned_reviews = []\n",
        "\n",
        "for i in range (0,1000,1):\n",
        "  cleaned = re.sub('[^a-zA-Z]',' ',dataset['Review'][i])\n",
        "  cleaned = cleaned.lower()\n",
        "  cleaned = cleaned.split()\n",
        "  cleaned = [ps.stem(word) for word in cleaned if not word in set(stopwords.words('english'))]\n",
        "  cleaned = ' '.join(cleaned)\n",
        "  cleaned_reviews.append(cleaned)"
      ]
    },
    {
      "cell_type": "code",
      "execution_count": 7,
      "metadata": {
        "colab": {
          "base_uri": "https://localhost:8080/",
          "height": 35
        },
        "id": "LYVKrpCp-lr_",
        "outputId": "3ad3a661-16a1-44ca-f087-b67180360f7f"
      },
      "outputs": [
        {
          "data": {
            "text/plain": [
              "'tasti textur nasti'"
            ]
          },
          "execution_count": 7,
          "metadata": {},
          "output_type": "execute_result"
        }
      ],
      "source": [
        "cleaned_reviews[2]"
      ]
    },
    {
      "cell_type": "code",
      "execution_count": 8,
      "metadata": {
        "id": "nmB3JLmmFD9Z"
      },
      "outputs": [],
      "source": [
        "from sklearn.feature_extraction.text import CountVectorizer\n",
        "cv = CountVectorizer(max_features = 1500)\n",
        "X = cv.fit_transform(cleaned_reviews).toarray()"
      ]
    },
    {
      "cell_type": "code",
      "execution_count": 9,
      "metadata": {
        "colab": {
          "base_uri": "https://localhost:8080/"
        },
        "id": "i7f8Tf_KFUiW",
        "outputId": "5248eaac-f7c7-469b-ba25-806ad9697ef8"
      },
      "outputs": [
        {
          "data": {
            "text/plain": [
              "array([[0, 0, 0, ..., 0, 0, 0],\n",
              "       [0, 0, 0, ..., 0, 0, 0],\n",
              "       [0, 0, 0, ..., 0, 0, 0],\n",
              "       ...,\n",
              "       [0, 0, 0, ..., 0, 0, 0],\n",
              "       [0, 0, 0, ..., 0, 0, 0],\n",
              "       [0, 0, 0, ..., 0, 0, 0]], dtype=int64)"
            ]
          },
          "execution_count": 9,
          "metadata": {},
          "output_type": "execute_result"
        }
      ],
      "source": [
        "X"
      ]
    },
    {
      "cell_type": "code",
      "execution_count": 10,
      "metadata": {
        "id": "FsBeo7tkHdv8"
      },
      "outputs": [],
      "source": [
        "y = dataset['Liked'].values"
      ]
    },
    {
      "cell_type": "code",
      "execution_count": 11,
      "metadata": {
        "colab": {
          "base_uri": "https://localhost:8080/",
          "height": 314
        },
        "id": "W3k2XsYClRB3",
        "outputId": "d3197332-026c-4b01-b26f-fae74faacfb5"
      },
      "outputs": [],
      "source": [
        "from sklearn.model_selection import train_test_split"
      ]
    },
    {
      "cell_type": "code",
      "execution_count": 12,
      "metadata": {},
      "outputs": [],
      "source": [
        "X_train,X_test,y_train,y_test = train_test_split(X,y,test_size=0.2,random_state=42)"
      ]
    },
    {
      "cell_type": "code",
      "execution_count": 13,
      "metadata": {},
      "outputs": [
        {
          "data": {
            "text/plain": [
              "1200000"
            ]
          },
          "execution_count": 13,
          "metadata": {},
          "output_type": "execute_result"
        }
      ],
      "source": [
        "X_train.size"
      ]
    },
    {
      "cell_type": "code",
      "execution_count": 26,
      "metadata": {},
      "outputs": [],
      "source": [
        "\n",
        "from sklearn.linear_model import LogisticRegression\n",
        "\n",
        "logreg = LogisticRegression()\n",
        "logreg.fit(X_train, y_train)\n",
        "\n",
        "y_pred = logreg.predict_proba(X_test)"
      ]
    },
    {
      "cell_type": "code",
      "execution_count": 31,
      "metadata": {},
      "outputs": [],
      "source": [
        "y_pred1 = logreg.predict(X_test)"
      ]
    },
    {
      "cell_type": "code",
      "execution_count": 32,
      "metadata": {},
      "outputs": [
        {
          "data": {
            "text/plain": [
              "array([0, 1, 1, 1, 0, 1, 0, 1, 0, 1, 0, 0, 0, 1, 0, 1, 0, 0, 0, 0, 1, 1,\n",
              "       0, 0, 0, 0, 0, 0, 1, 0, 0, 1, 0, 0, 0, 1, 1, 0, 1, 0, 1, 0, 1, 0,\n",
              "       1, 0, 0, 0, 0, 0, 0, 1, 1, 1, 1, 0, 0, 0, 0, 0, 0, 0, 1, 1, 0, 0,\n",
              "       1, 1, 0, 0, 1, 0, 1, 0, 1, 0, 1, 0, 0, 0, 0, 1, 0, 1, 1, 1, 0, 1,\n",
              "       1, 1, 1, 0, 0, 1, 1, 0, 1, 0, 0, 0, 1, 0, 1, 1, 1, 1, 1, 0, 0, 0,\n",
              "       0, 1, 0, 0, 0, 1, 1, 0, 0, 1, 1, 0, 0, 0, 0, 0, 1, 0, 0, 0, 1, 0,\n",
              "       0, 0, 1, 1, 0, 1, 1, 0, 0, 0, 1, 0, 0, 0, 0, 0, 1, 0, 0, 1, 0, 0,\n",
              "       0, 1, 1, 0, 0, 0, 0, 1, 0, 0, 1, 0, 0, 1, 1, 1, 0, 1, 1, 0, 1, 0,\n",
              "       1, 0, 0, 0, 1, 0, 1, 0, 1, 1, 1, 0, 0, 1, 0, 1, 1, 0, 0, 1, 1, 1,\n",
              "       0, 1], dtype=int64)"
            ]
          },
          "execution_count": 32,
          "metadata": {},
          "output_type": "execute_result"
        }
      ],
      "source": [
        "y_pred1"
      ]
    },
    {
      "cell_type": "code",
      "execution_count": 28,
      "metadata": {},
      "outputs": [
        {
          "data": {
            "text/plain": [
              "array([0.66511823, 0.33488177])"
            ]
          },
          "execution_count": 28,
          "metadata": {},
          "output_type": "execute_result"
        }
      ],
      "source": [
        "y_pred[0]"
      ]
    },
    {
      "cell_type": "code",
      "execution_count": 34,
      "metadata": {},
      "outputs": [
        {
          "name": "stdout",
          "output_type": "stream",
          "text": [
            "2/5 Positive and 3/5 Negative\n",
            "5/5 Positive and 0/5 Negative\n",
            "4/5 Positive and 1/5 Negative\n",
            "5/5 Positive and 0/5 Negative\n",
            "3/5 Positive and 2/5 Negative\n",
            "5/5 Positive and 0/5 Negative\n",
            "2/5 Positive and 3/5 Negative\n",
            "4/5 Positive and 1/5 Negative\n",
            "1/5 Positive and 4/5 Negative\n",
            "4/5 Positive and 1/5 Negative\n",
            "2/5 Positive and 3/5 Negative\n",
            "1/5 Positive and 4/5 Negative\n",
            "3/5 Positive and 2/5 Negative\n",
            "4/5 Positive and 1/5 Negative\n",
            "2/5 Positive and 3/5 Negative\n",
            "5/5 Positive and 0/5 Negative\n",
            "1/5 Positive and 4/5 Negative\n",
            "2/5 Positive and 3/5 Negative\n",
            "3/5 Positive and 2/5 Negative\n",
            "3/5 Positive and 2/5 Negative\n",
            "4/5 Positive and 1/5 Negative\n",
            "5/5 Positive and 0/5 Negative\n",
            "3/5 Positive and 2/5 Negative\n",
            "2/5 Positive and 3/5 Negative\n",
            "1/5 Positive and 4/5 Negative\n",
            "2/5 Positive and 3/5 Negative\n",
            "2/5 Positive and 3/5 Negative\n",
            "2/5 Positive and 3/5 Negative\n",
            "4/5 Positive and 1/5 Negative\n",
            "2/5 Positive and 3/5 Negative\n",
            "2/5 Positive and 3/5 Negative\n",
            "5/5 Positive and 0/5 Negative\n",
            "2/5 Positive and 3/5 Negative\n",
            "3/5 Positive and 2/5 Negative\n",
            "2/5 Positive and 3/5 Negative\n",
            "4/5 Positive and 1/5 Negative\n",
            "5/5 Positive and 0/5 Negative\n",
            "1/5 Positive and 4/5 Negative\n",
            "4/5 Positive and 1/5 Negative\n",
            "2/5 Positive and 3/5 Negative\n",
            "5/5 Positive and 0/5 Negative\n",
            "2/5 Positive and 3/5 Negative\n",
            "4/5 Positive and 1/5 Negative\n",
            "1/5 Positive and 4/5 Negative\n",
            "5/5 Positive and 0/5 Negative\n",
            "2/5 Positive and 3/5 Negative\n",
            "1/5 Positive and 4/5 Negative\n",
            "1/5 Positive and 4/5 Negative\n",
            "3/5 Positive and 2/5 Negative\n",
            "1/5 Positive and 4/5 Negative\n",
            "2/5 Positive and 3/5 Negative\n",
            "5/5 Positive and 0/5 Negative\n",
            "3/5 Positive and 2/5 Negative\n",
            "5/5 Positive and 0/5 Negative\n",
            "4/5 Positive and 1/5 Negative\n",
            "2/5 Positive and 3/5 Negative\n",
            "1/5 Positive and 4/5 Negative\n",
            "3/5 Positive and 2/5 Negative\n",
            "2/5 Positive and 3/5 Negative\n",
            "1/5 Positive and 4/5 Negative\n",
            "1/5 Positive and 4/5 Negative\n",
            "3/5 Positive and 2/5 Negative\n",
            "4/5 Positive and 1/5 Negative\n",
            "3/5 Positive and 2/5 Negative\n",
            "2/5 Positive and 3/5 Negative\n",
            "2/5 Positive and 3/5 Negative\n",
            "4/5 Positive and 1/5 Negative\n",
            "5/5 Positive and 0/5 Negative\n",
            "1/5 Positive and 4/5 Negative\n",
            "3/5 Positive and 2/5 Negative\n",
            "3/5 Positive and 2/5 Negative\n",
            "2/5 Positive and 3/5 Negative\n",
            "5/5 Positive and 0/5 Negative\n",
            "2/5 Positive and 3/5 Negative\n",
            "5/5 Positive and 0/5 Negative\n",
            "2/5 Positive and 3/5 Negative\n",
            "3/5 Positive and 2/5 Negative\n",
            "2/5 Positive and 3/5 Negative\n",
            "2/5 Positive and 3/5 Negative\n",
            "1/5 Positive and 4/5 Negative\n",
            "2/5 Positive and 3/5 Negative\n",
            "5/5 Positive and 0/5 Negative\n",
            "3/5 Positive and 2/5 Negative\n",
            "4/5 Positive and 1/5 Negative\n",
            "4/5 Positive and 1/5 Negative\n",
            "3/5 Positive and 2/5 Negative\n",
            "2/5 Positive and 3/5 Negative\n",
            "5/5 Positive and 0/5 Negative\n",
            "4/5 Positive and 1/5 Negative\n",
            "4/5 Positive and 1/5 Negative\n",
            "3/5 Positive and 2/5 Negative\n",
            "2/5 Positive and 3/5 Negative\n",
            "2/5 Positive and 3/5 Negative\n",
            "3/5 Positive and 2/5 Negative\n",
            "3/5 Positive and 2/5 Negative\n",
            "2/5 Positive and 3/5 Negative\n",
            "4/5 Positive and 1/5 Negative\n",
            "3/5 Positive and 2/5 Negative\n",
            "2/5 Positive and 3/5 Negative\n",
            "1/5 Positive and 4/5 Negative\n",
            "5/5 Positive and 0/5 Negative\n",
            "2/5 Positive and 3/5 Negative\n",
            "3/5 Positive and 2/5 Negative\n",
            "4/5 Positive and 1/5 Negative\n",
            "3/5 Positive and 2/5 Negative\n",
            "4/5 Positive and 1/5 Negative\n",
            "4/5 Positive and 1/5 Negative\n",
            "2/5 Positive and 3/5 Negative\n",
            "1/5 Positive and 4/5 Negative\n",
            "3/5 Positive and 2/5 Negative\n",
            "2/5 Positive and 3/5 Negative\n",
            "3/5 Positive and 2/5 Negative\n",
            "3/5 Positive and 2/5 Negative\n",
            "1/5 Positive and 4/5 Negative\n",
            "2/5 Positive and 3/5 Negative\n",
            "5/5 Positive and 0/5 Negative\n",
            "4/5 Positive and 1/5 Negative\n",
            "2/5 Positive and 3/5 Negative\n",
            "1/5 Positive and 4/5 Negative\n",
            "5/5 Positive and 0/5 Negative\n",
            "3/5 Positive and 2/5 Negative\n",
            "2/5 Positive and 3/5 Negative\n",
            "3/5 Positive and 2/5 Negative\n",
            "3/5 Positive and 2/5 Negative\n",
            "2/5 Positive and 3/5 Negative\n",
            "2/5 Positive and 3/5 Negative\n",
            "3/5 Positive and 2/5 Negative\n",
            "3/5 Positive and 2/5 Negative\n",
            "3/5 Positive and 2/5 Negative\n",
            "3/5 Positive and 2/5 Negative\n",
            "4/5 Positive and 1/5 Negative\n",
            "2/5 Positive and 3/5 Negative\n",
            "2/5 Positive and 3/5 Negative\n",
            "1/5 Positive and 4/5 Negative\n",
            "5/5 Positive and 0/5 Negative\n",
            "5/5 Positive and 0/5 Negative\n",
            "2/5 Positive and 3/5 Negative\n",
            "5/5 Positive and 0/5 Negative\n",
            "4/5 Positive and 1/5 Negative\n",
            "2/5 Positive and 3/5 Negative\n",
            "1/5 Positive and 4/5 Negative\n",
            "1/5 Positive and 4/5 Negative\n",
            "5/5 Positive and 0/5 Negative\n",
            "3/5 Positive and 2/5 Negative\n",
            "2/5 Positive and 3/5 Negative\n",
            "1/5 Positive and 4/5 Negative\n",
            "2/5 Positive and 3/5 Negative\n",
            "2/5 Positive and 3/5 Negative\n",
            "5/5 Positive and 0/5 Negative\n",
            "1/5 Positive and 4/5 Negative\n",
            "1/5 Positive and 4/5 Negative\n",
            "5/5 Positive and 0/5 Negative\n",
            "2/5 Positive and 3/5 Negative\n",
            "2/5 Positive and 3/5 Negative\n",
            "1/5 Positive and 4/5 Negative\n",
            "3/5 Positive and 2/5 Negative\n",
            "4/5 Positive and 1/5 Negative\n",
            "3/5 Positive and 2/5 Negative\n",
            "1/5 Positive and 4/5 Negative\n",
            "1/5 Positive and 4/5 Negative\n",
            "2/5 Positive and 3/5 Negative\n",
            "5/5 Positive and 0/5 Negative\n",
            "2/5 Positive and 3/5 Negative\n",
            "2/5 Positive and 3/5 Negative\n",
            "3/5 Positive and 2/5 Negative\n",
            "3/5 Positive and 2/5 Negative\n",
            "2/5 Positive and 3/5 Negative\n",
            "5/5 Positive and 0/5 Negative\n",
            "5/5 Positive and 0/5 Negative\n",
            "4/5 Positive and 1/5 Negative\n",
            "2/5 Positive and 3/5 Negative\n",
            "5/5 Positive and 0/5 Negative\n",
            "4/5 Positive and 1/5 Negative\n",
            "1/5 Positive and 4/5 Negative\n",
            "3/5 Positive and 2/5 Negative\n",
            "1/5 Positive and 4/5 Negative\n",
            "5/5 Positive and 0/5 Negative\n",
            "3/5 Positive and 2/5 Negative\n",
            "2/5 Positive and 3/5 Negative\n",
            "1/5 Positive and 4/5 Negative\n",
            "4/5 Positive and 1/5 Negative\n",
            "2/5 Positive and 3/5 Negative\n",
            "5/5 Positive and 0/5 Negative\n",
            "2/5 Positive and 3/5 Negative\n",
            "4/5 Positive and 1/5 Negative\n",
            "4/5 Positive and 1/5 Negative\n",
            "5/5 Positive and 0/5 Negative\n",
            "1/5 Positive and 4/5 Negative\n",
            "2/5 Positive and 3/5 Negative\n",
            "4/5 Positive and 1/5 Negative\n",
            "1/5 Positive and 4/5 Negative\n",
            "5/5 Positive and 0/5 Negative\n",
            "4/5 Positive and 1/5 Negative\n",
            "3/5 Positive and 2/5 Negative\n",
            "2/5 Positive and 3/5 Negative\n",
            "4/5 Positive and 1/5 Negative\n",
            "5/5 Positive and 0/5 Negative\n",
            "4/5 Positive and 1/5 Negative\n",
            "2/5 Positive and 3/5 Negative\n",
            "5/5 Positive and 0/5 Negative\n"
          ]
        }
      ],
      "source": [
        "for i in range(0,len(y_pred)):\n",
        "    if (y_pred[i][0] < 0.20 ):\n",
        "        print(\"5/5 Positive and 0/5 Negative\")\n",
        "    elif (0.20 < y_pred[i][0] < 0.40 ):\n",
        "        print(\"4/5 Positive and 1/5 Negative\")\n",
        "    elif (0.40 < y_pred[i][0] < 0.60):\n",
        "        print(\"3/5 Positive and 2/5 Negative\")\n",
        "    elif (0.60 < y_pred[i][0] < 0.80):\n",
        "        print(\"2/5 Positive and 3/5 Negative\")\n",
        "    elif (0.80 < y_pred[i][0]):\n",
        "        print(\"1/5 Positive and 4/5 Negative\")\n",
        "    elif (0.90 < y_pred[i][0]):\n",
        "        print(\"0/5 Positive and 5/5 Negative\")"
      ]
    }
  ],
  "metadata": {
    "colab": {
      "provenance": []
    },
    "kernelspec": {
      "display_name": "Python 3",
      "name": "python3"
    },
    "language_info": {
      "codemirror_mode": {
        "name": "ipython",
        "version": 3
      },
      "file_extension": ".py",
      "mimetype": "text/x-python",
      "name": "python",
      "nbconvert_exporter": "python",
      "pygments_lexer": "ipython3",
      "version": "3.10.6"
    }
  },
  "nbformat": 4,
  "nbformat_minor": 0
}
